{
 "cells": [
  {
   "cell_type": "code",
   "execution_count": 1,
   "metadata": {},
   "outputs": [],
   "source": [
    "import pyupbit as ub\n",
    "\n",
    "import numpy as np\n",
    "import pandas as pd\n",
    "\n",
    "import os\n",
    "import yaml\n",
    "from datetime import datetime"
   ]
  },
  {
   "cell_type": "code",
   "execution_count": 2,
   "metadata": {},
   "outputs": [],
   "source": [
    "# 환경설정\n",
    "os.makedirs('result', exist_ok=True)\n"
   ]
  },
  {
   "cell_type": "code",
   "execution_count": 3,
   "metadata": {},
   "outputs": [],
   "source": [
    "# 티커 조회\n",
    "tickers = ub.get_tickers()"
   ]
  },
  {
   "cell_type": "code",
   "execution_count": 17,
   "metadata": {},
   "outputs": [
    {
     "data": {
      "text/plain": [
       "281"
      ]
     },
     "execution_count": 17,
     "metadata": {},
     "output_type": "execute_result"
    }
   ],
   "source": [
    "len(tickers)"
   ]
  },
  {
   "cell_type": "code",
   "execution_count": 37,
   "metadata": {},
   "outputs": [
    {
     "data": {
      "text/plain": [
       "{'BTC-CELO': 6.539e-05,\n",
       " 'KRW-SAND': 3485.0,\n",
       " 'KRW-HUM': 301.0,\n",
       " 'BTC-IQ': 2.2e-07,\n",
       " 'BTC-STX': 3.499e-05,\n",
       " 'KRW-DOGE': 149.0,\n",
       " 'BTC-NEAR': 0.00026402,\n",
       " 'BTC-AUCTION': 0.00032635,\n",
       " 'BTC-DAWN': 4.462e-05,\n",
       " 'BTC-FLOW': 0.0001438,\n",
       " 'BTC-STRK': 0.00096079,\n",
       " 'KRW-STRK': 47340.0,\n",
       " 'BTC-PUNDIX': 1.861e-05,\n",
       " 'KRW-PUNDIX': 909.0,\n",
       " 'KRW-FLOW': 6990.0,\n",
       " 'KRW-DAWN': 2170.0,\n",
       " 'KRW-AXS': 58210.0,\n",
       " 'KRW-STX': 1680.0,\n",
       " 'BTC-GRT': 8.28e-06,\n",
       " 'BTC-SNX': 0.00010948,\n",
       " 'BTC-USDP': 2.517e-05,\n",
       " 'KRW-XEC': 0.0928,\n",
       " 'KRW-SOL': 101800.0,\n",
       " 'BTC-SOL': 0.00209892,\n",
       " 'KRW-MATIC': 1760.0,\n",
       " 'BTC-MATIC': 3.596e-05,\n",
       " 'KRW-NU': 538.0,\n",
       " 'BTC-NU': 1.101e-05,\n",
       " 'KRW-AAVE': 148000.0,\n",
       " 'KRW-1INCH': 1685.0,\n",
       " 'BTC-AAVE': 0.00307293,\n",
       " 'BTC-1INCH': 3.481e-05,\n",
       " 'BTC-MASK': 9.972e-05,\n",
       " 'KRW-ALGO': 907.0,\n",
       " 'BTC-AUDIO': 1.819e-05,\n",
       " 'KRW-NEAR': 12980.0,\n",
       " 'BTC-YGG': 7.32e-05,\n",
       " 'BTC-GTC': 0.00014233,\n",
       " 'BTC-OCEAN': 1.166e-05,\n",
       " 'BTC-CTC': 2.846e-05,\n",
       " 'BTC-LPT': 0.00058749,\n",
       " 'KRW-WEMIX': 5710.0,\n",
       " 'BTC-WEMIX': 0.0001181,\n",
       " 'KRW-AVAX': 89600.0,\n",
       " 'BTC-AVAX': 0.00184444,\n",
       " 'BTC-IMX': 4.687e-05,\n",
       " 'BTC-RNDR': 6.062e-05,\n",
       " 'BTC-RLY': 4.68e-06,\n",
       " 'KRW-T': 154.0,\n",
       " 'BTC-T': 3.17e-06}"
      ]
     },
     "execution_count": 37,
     "metadata": {},
     "output_type": "execute_result"
    }
   ],
   "source": [
    "# 리플(XRP)의 원화(KRW)가 조회\n",
    "price = ub.get_current_price(tickers[231:])\n",
    "price"
   ]
  },
  {
   "cell_type": "code",
   "execution_count": 58,
   "metadata": {},
   "outputs": [
    {
     "data": {
      "text/html": [
       "<div>\n",
       "<style scoped>\n",
       "    .dataframe tbody tr th:only-of-type {\n",
       "        vertical-align: middle;\n",
       "    }\n",
       "\n",
       "    .dataframe tbody tr th {\n",
       "        vertical-align: top;\n",
       "    }\n",
       "\n",
       "    .dataframe thead th {\n",
       "        text-align: right;\n",
       "    }\n",
       "</style>\n",
       "<table border=\"1\" class=\"dataframe\">\n",
       "  <thead>\n",
       "    <tr style=\"text-align: right;\">\n",
       "      <th></th>\n",
       "      <th>ask_price</th>\n",
       "      <th>bid_price</th>\n",
       "      <th>ask_size</th>\n",
       "      <th>bid_size</th>\n",
       "    </tr>\n",
       "  </thead>\n",
       "  <tbody>\n",
       "    <tr>\n",
       "      <th>0</th>\n",
       "      <td>48904000.0</td>\n",
       "      <td>48902000.0</td>\n",
       "      <td>0.667873</td>\n",
       "      <td>0.103197</td>\n",
       "    </tr>\n",
       "    <tr>\n",
       "      <th>1</th>\n",
       "      <td>48910000.0</td>\n",
       "      <td>48890000.0</td>\n",
       "      <td>0.066019</td>\n",
       "      <td>0.047209</td>\n",
       "    </tr>\n",
       "    <tr>\n",
       "      <th>2</th>\n",
       "      <td>48912000.0</td>\n",
       "      <td>48887000.0</td>\n",
       "      <td>0.741405</td>\n",
       "      <td>0.000385</td>\n",
       "    </tr>\n",
       "    <tr>\n",
       "      <th>3</th>\n",
       "      <td>48915000.0</td>\n",
       "      <td>48882000.0</td>\n",
       "      <td>0.021057</td>\n",
       "      <td>0.800872</td>\n",
       "    </tr>\n",
       "    <tr>\n",
       "      <th>4</th>\n",
       "      <td>48917000.0</td>\n",
       "      <td>48881000.0</td>\n",
       "      <td>0.031024</td>\n",
       "      <td>0.031077</td>\n",
       "    </tr>\n",
       "    <tr>\n",
       "      <th>5</th>\n",
       "      <td>48919000.0</td>\n",
       "      <td>48880000.0</td>\n",
       "      <td>0.149840</td>\n",
       "      <td>0.088435</td>\n",
       "    </tr>\n",
       "    <tr>\n",
       "      <th>6</th>\n",
       "      <td>48920000.0</td>\n",
       "      <td>48879000.0</td>\n",
       "      <td>0.120329</td>\n",
       "      <td>0.002978</td>\n",
       "    </tr>\n",
       "    <tr>\n",
       "      <th>7</th>\n",
       "      <td>48921000.0</td>\n",
       "      <td>48873000.0</td>\n",
       "      <td>0.034273</td>\n",
       "      <td>0.012046</td>\n",
       "    </tr>\n",
       "    <tr>\n",
       "      <th>8</th>\n",
       "      <td>48922000.0</td>\n",
       "      <td>48871000.0</td>\n",
       "      <td>0.131727</td>\n",
       "      <td>0.028219</td>\n",
       "    </tr>\n",
       "    <tr>\n",
       "      <th>9</th>\n",
       "      <td>48926000.0</td>\n",
       "      <td>48868000.0</td>\n",
       "      <td>0.003180</td>\n",
       "      <td>0.600000</td>\n",
       "    </tr>\n",
       "    <tr>\n",
       "      <th>10</th>\n",
       "      <td>48927000.0</td>\n",
       "      <td>48867000.0</td>\n",
       "      <td>0.486598</td>\n",
       "      <td>0.224805</td>\n",
       "    </tr>\n",
       "    <tr>\n",
       "      <th>11</th>\n",
       "      <td>48928000.0</td>\n",
       "      <td>48865000.0</td>\n",
       "      <td>0.116555</td>\n",
       "      <td>1.170425</td>\n",
       "    </tr>\n",
       "    <tr>\n",
       "      <th>12</th>\n",
       "      <td>48929000.0</td>\n",
       "      <td>48864000.0</td>\n",
       "      <td>0.013298</td>\n",
       "      <td>2.516554</td>\n",
       "    </tr>\n",
       "    <tr>\n",
       "      <th>13</th>\n",
       "      <td>48930000.0</td>\n",
       "      <td>48862000.0</td>\n",
       "      <td>0.051561</td>\n",
       "      <td>0.051400</td>\n",
       "    </tr>\n",
       "    <tr>\n",
       "      <th>14</th>\n",
       "      <td>48932000.0</td>\n",
       "      <td>48856000.0</td>\n",
       "      <td>0.123866</td>\n",
       "      <td>0.003855</td>\n",
       "    </tr>\n",
       "  </tbody>\n",
       "</table>\n",
       "</div>"
      ],
      "text/plain": [
       "     ask_price   bid_price  ask_size  bid_size\n",
       "0   48904000.0  48902000.0  0.667873  0.103197\n",
       "1   48910000.0  48890000.0  0.066019  0.047209\n",
       "2   48912000.0  48887000.0  0.741405  0.000385\n",
       "3   48915000.0  48882000.0  0.021057  0.800872\n",
       "4   48917000.0  48881000.0  0.031024  0.031077\n",
       "5   48919000.0  48880000.0  0.149840  0.088435\n",
       "6   48920000.0  48879000.0  0.120329  0.002978\n",
       "7   48921000.0  48873000.0  0.034273  0.012046\n",
       "8   48922000.0  48871000.0  0.131727  0.028219\n",
       "9   48926000.0  48868000.0  0.003180  0.600000\n",
       "10  48927000.0  48867000.0  0.486598  0.224805\n",
       "11  48928000.0  48865000.0  0.116555  1.170425\n",
       "12  48929000.0  48864000.0  0.013298  2.516554\n",
       "13  48930000.0  48862000.0  0.051561  0.051400\n",
       "14  48932000.0  48856000.0  0.123866  0.003855"
      ]
     },
     "execution_count": 58,
     "metadata": {},
     "output_type": "execute_result"
    }
   ],
   "source": [
    "# bid(매수호가) / ask(매도호가)\n",
    "orderbook = ub.get_orderbook('KRW-BTC')\n",
    "orderbook_df = pd.DataFrame(orderbook['orderbook_units'])\n",
    "orderbook_df"
   ]
  },
  {
   "cell_type": "code",
   "execution_count": 69,
   "metadata": {},
   "outputs": [],
   "source": [
    "ubapi = ub.Upbit(ACCESS_KEY, SECRET_KEY)"
   ]
  },
  {
   "cell_type": "code",
   "execution_count": 77,
   "metadata": {},
   "outputs": [
    {
     "data": {
      "text/plain": [
       "{'uuid': '115fcc2a-4cba-4bda-a324-54b8f992f6b1',\n",
       " 'side': 'ask',\n",
       " 'ord_type': 'limit',\n",
       " 'price': '3237000.0',\n",
       " 'state': 'wait',\n",
       " 'market': 'KRW-ETH',\n",
       " 'created_at': '2022-03-12T18:42:08+09:00',\n",
       " 'volume': '0.00246407',\n",
       " 'remaining_volume': '0.00246407',\n",
       " 'reserved_fee': '0.0',\n",
       " 'remaining_fee': '0.0',\n",
       " 'paid_fee': '0.0',\n",
       " 'locked': '0.00246407',\n",
       " 'executed_volume': '0.0',\n",
       " 'trades_count': 0}"
      ]
     },
     "execution_count": 77,
     "metadata": {},
     "output_type": "execute_result"
    }
   ],
   "source": [
    "# 매도 주문 - 지정가\n",
    "ubapi.sell_limit_order(ticker='KRW-ETH', price=3237000, volume=0.00246407)"
   ]
  },
  {
   "cell_type": "code",
   "execution_count": 89,
   "metadata": {},
   "outputs": [
    {
     "data": {
      "text/plain": [
       "{'uuid': 'f25b5a17-59f8-4488-882b-5c004b4062e8',\n",
       " 'side': 'ask',\n",
       " 'ord_type': 'market',\n",
       " 'price': None,\n",
       " 'state': 'wait',\n",
       " 'market': 'KRW-ETH',\n",
       " 'created_at': '2022-03-12T18:53:54+09:00',\n",
       " 'volume': '0.00246407',\n",
       " 'remaining_volume': '0.00246407',\n",
       " 'reserved_fee': '0.0',\n",
       " 'remaining_fee': '0.0',\n",
       " 'paid_fee': '0.0',\n",
       " 'locked': '0.00246407',\n",
       " 'executed_volume': '0.0',\n",
       " 'trades_count': 0}"
      ]
     },
     "execution_count": 89,
     "metadata": {},
     "output_type": "execute_result"
    }
   ],
   "source": [
    "# 매도 주문 - 시장가\n",
    "# ubapi.sell_market_order(ticker='KRW-ETH', volume=0.00246407)"
   ]
  },
  {
   "cell_type": "code",
   "execution_count": 90,
   "metadata": {},
   "outputs": [
    {
     "data": {
      "text/plain": [
       "[]"
      ]
     },
     "execution_count": 90,
     "metadata": {},
     "output_type": "execute_result"
    }
   ],
   "source": [
    "# 주문 조회\n",
    "ubapi.get_order('KRW-ETH')"
   ]
  },
  {
   "cell_type": "code",
   "execution_count": 78,
   "metadata": {},
   "outputs": [
    {
     "data": {
      "text/plain": [
       "{'uuid': '115fcc2a-4cba-4bda-a324-54b8f992f6b1',\n",
       " 'side': 'ask',\n",
       " 'ord_type': 'limit',\n",
       " 'price': '3237000.0',\n",
       " 'state': 'wait',\n",
       " 'market': 'KRW-ETH',\n",
       " 'created_at': '2022-03-12T18:42:08+09:00',\n",
       " 'volume': '0.00246407',\n",
       " 'remaining_volume': '0.00246407',\n",
       " 'reserved_fee': '0.0',\n",
       " 'remaining_fee': '0.0',\n",
       " 'paid_fee': '0.0',\n",
       " 'locked': '0.00246407',\n",
       " 'executed_volume': '0.0',\n",
       " 'trades_count': 0}"
      ]
     },
     "execution_count": 78,
     "metadata": {},
     "output_type": "execute_result"
    }
   ],
   "source": [
    "# 주문 취소\n",
    "ubapi.cancel_order('115fcc2a-4cba-4bda-a324-54b8f992f6b1')"
   ]
  }
 ],
 "metadata": {
  "interpreter": {
   "hash": "b3ba2566441a7c06988d0923437866b63cedc61552a5af99d1f4fb67d367b25f"
  },
  "kernelspec": {
   "display_name": "Python 3.9.7 ('base')",
   "language": "python",
   "name": "python3"
  },
  "language_info": {
   "codemirror_mode": {
    "name": "ipython",
    "version": 3
   },
   "file_extension": ".py",
   "mimetype": "text/x-python",
   "name": "python",
   "nbconvert_exporter": "python",
   "pygments_lexer": "ipython3",
   "version": "3.9.7"
  },
  "orig_nbformat": 4
 },
 "nbformat": 4,
 "nbformat_minor": 2
}
